{
 "cells": [
  {
   "cell_type": "code",
   "execution_count": 6,
   "id": "8f0b773a",
   "metadata": {},
   "outputs": [],
   "source": [
    "import os,pathlib\n",
    "import pandas as pd \n",
    "projectDir=pathlib.Path(os.getcwd()).parent\n",
    "inputPath=pathlib.Path(projectDir,'data','input','sampledata.csv')\n",
    "intermediatePath=pathlib.Path(projectDir,'data','intermediate','cleansed_data.csv')"
   ]
  },
  {
   "cell_type": "code",
   "execution_count": 7,
   "id": "f8a9fb26",
   "metadata": {},
   "outputs": [],
   "source": [
    "\n",
    "df=pd.read_csv(inputPath,parse_dates=['Date']).convert_dtypes()\n",
    "#convert tags column to string \n",
    "df['Tags']=df['Tags'].astype('string')"
   ]
  },
  {
   "cell_type": "code",
   "execution_count": 8,
   "id": "7193c7cc",
   "metadata": {},
   "outputs": [],
   "source": [
    "#clean Na values \n",
    "def cleanNaValues(p_df):\n",
    "    try:\n",
    "        for i in p_df.columns:\n",
    "            p_df[i]=p_df[i].fillna('')\n",
    "        return p_df\n",
    "    except Exception as e:\n",
    "        print('Failed to clean',e)\n",
    "\n",
    "#add a new column called instruction in dataframe which will served as instruction to LLM\n",
    "def addLlmInstruction(row):\n",
    "    if row['type']=='Expense':\n",
    "        if len(row['Note'])>1:\n",
    "            return f''' On Date {row['Date']} an amount of rupees {row['Amount']} were spent from {row['Payment mode']} account in category\n",
    "            \"{row['Category']}\" with a note mentioned as \"{row['Note']}\"  '''\n",
    "        else:\n",
    "            return f''' On Date {row['Date']} an amount of rupees {row['Amount']} were spent from {row['Payment mode']} account in category\n",
    "            \"{row['Category']}\"  '''\n",
    "    else:\n",
    "        if len(row['Note'])>1:\n",
    "            return f''' On Date {row['Date']} a transaction of rupees {row['Amount']} was recieved into {row['Payment mode']} account in category\n",
    "            \"{row['Category']}\" with a note mentioned as \"{row['Note']}\"  '''\n",
    "        else:\n",
    "            return f''' On Date {row['Date']} a transaction of rupees {row['Amount']} was recieved into {row['Payment mode']} account in category\n",
    "            \"{row['Category']}\"  '''    \n",
    "\n",
    "#save the formatted csv file in intermediate folder\n",
    "def savePreprocessedFile(df):    \n",
    "    df.to_csv(intermediatePath)\n",
    "    print('Data saved after cleansing')\n"
   ]
  },
  {
   "cell_type": "code",
   "execution_count": 9,
   "id": "38118cf5",
   "metadata": {},
   "outputs": [
    {
     "name": "stdout",
     "output_type": "stream",
     "text": [
      "Data saved after cleansing\n"
     ]
    }
   ],
   "source": [
    "#main\n",
    "#call functions one by one \n",
    "df=cleanNaValues(df)\n",
    "df['instructions']=df.apply(addLlmInstruction,axis=1)   \n",
    "savePreprocessedFile(df) "
   ]
  },
  {
   "cell_type": "code",
   "execution_count": 10,
   "id": "051e8024",
   "metadata": {},
   "outputs": [
    {
     "data": {
      "text/html": [
       "<div>\n",
       "<style scoped>\n",
       "    .dataframe tbody tr th:only-of-type {\n",
       "        vertical-align: middle;\n",
       "    }\n",
       "\n",
       "    .dataframe tbody tr th {\n",
       "        vertical-align: top;\n",
       "    }\n",
       "\n",
       "    .dataframe thead th {\n",
       "        text-align: right;\n",
       "    }\n",
       "</style>\n",
       "<table border=\"1\" class=\"dataframe\">\n",
       "  <thead>\n",
       "    <tr style=\"text-align: right;\">\n",
       "      <th></th>\n",
       "      <th>Date</th>\n",
       "      <th>Category</th>\n",
       "      <th>Amount</th>\n",
       "      <th>Note</th>\n",
       "      <th>type</th>\n",
       "      <th>Payment mode</th>\n",
       "      <th>To payment mode</th>\n",
       "      <th>Tags</th>\n",
       "      <th>instructions</th>\n",
       "    </tr>\n",
       "  </thead>\n",
       "  <tbody>\n",
       "    <tr>\n",
       "      <th>0</th>\n",
       "      <td>2025-01-31 14:53:00</td>\n",
       "      <td>Items in home</td>\n",
       "      <td>450.0</td>\n",
       "      <td>Washing machine cover</td>\n",
       "      <td>Expense</td>\n",
       "      <td>ICICI BANK</td>\n",
       "      <td></td>\n",
       "      <td></td>\n",
       "      <td>On Date 2025-01-31 14:53:00 an amount of rupe...</td>\n",
       "    </tr>\n",
       "    <tr>\n",
       "      <th>1</th>\n",
       "      <td>2025-01-31 14:52:00</td>\n",
       "      <td>Dining and eatouts</td>\n",
       "      <td>20.0</td>\n",
       "      <td>Dabeli</td>\n",
       "      <td>Expense</td>\n",
       "      <td>SBI bank</td>\n",
       "      <td></td>\n",
       "      <td></td>\n",
       "      <td>On Date 2025-01-31 14:52:00 an amount of rupe...</td>\n",
       "    </tr>\n",
       "  </tbody>\n",
       "</table>\n",
       "</div>"
      ],
      "text/plain": [
       "                 Date            Category  Amount                   Note  \\\n",
       "0 2025-01-31 14:53:00       Items in home   450.0  Washing machine cover   \n",
       "1 2025-01-31 14:52:00  Dining and eatouts    20.0                 Dabeli   \n",
       "\n",
       "      type Payment mode To payment mode Tags  \\\n",
       "0  Expense   ICICI BANK                        \n",
       "1  Expense     SBI bank                        \n",
       "\n",
       "                                        instructions  \n",
       "0   On Date 2025-01-31 14:53:00 an amount of rupe...  \n",
       "1   On Date 2025-01-31 14:52:00 an amount of rupe...  "
      ]
     },
     "execution_count": 10,
     "metadata": {},
     "output_type": "execute_result"
    }
   ],
   "source": [
    "df.head(2)"
   ]
  },
  {
   "cell_type": "code",
   "execution_count": null,
   "id": "d8d187b0",
   "metadata": {},
   "outputs": [],
   "source": []
  }
 ],
 "metadata": {
  "kernelspec": {
   "display_name": "llm_env",
   "language": "python",
   "name": "python3"
  },
  "language_info": {
   "codemirror_mode": {
    "name": "ipython",
    "version": 3
   },
   "file_extension": ".py",
   "mimetype": "text/x-python",
   "name": "python",
   "nbconvert_exporter": "python",
   "pygments_lexer": "ipython3",
   "version": "3.10.0"
  }
 },
 "nbformat": 4,
 "nbformat_minor": 5
}
